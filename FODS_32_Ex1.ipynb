{
 "cells": [
  {
   "cell_type": "code",
   "execution_count": 1,
   "id": "f87e5221-5cea-45f9-8eab-07c56a11cb83",
   "metadata": {},
   "outputs": [],
   "source": [
    "import numpy as np\n",
    "import pandas as pd"
   ]
  },
  {
   "cell_type": "code",
   "execution_count": 2,
   "id": "53a97600-b1e7-47ab-8bba-278e5e3acc6c",
   "metadata": {},
   "outputs": [],
   "source": [
    "Emp_data = pd.DataFrame({'EmployeeID': [101, 102, 103, 104, 105],\n",
    "    'Name': ['Alice', 'Bob', 'Charlie', 'David', 'Eva'],\n",
    "    'Department': ['HR', 'IT', 'Finance', 'IT', 'HR'],\n",
    "    'Salary': [50000, 60000, 55000, 65000, 58000]})\n"
   ]
  },
  {
   "cell_type": "markdown",
   "id": "434ac2d7",
   "metadata": {},
   "source": [
    "Display the 'Name' and 'Salary' columns from the Employee_data DataFrame."
   ]
  },
  {
   "cell_type": "code",
   "execution_count": 3,
   "id": "ba06e96d-bb54-4f45-b58c-2172888bebe1",
   "metadata": {},
   "outputs": [
    {
     "data": {
      "text/html": [
       "<div>\n",
       "<style scoped>\n",
       "    .dataframe tbody tr th:only-of-type {\n",
       "        vertical-align: middle;\n",
       "    }\n",
       "\n",
       "    .dataframe tbody tr th {\n",
       "        vertical-align: top;\n",
       "    }\n",
       "\n",
       "    .dataframe thead th {\n",
       "        text-align: right;\n",
       "    }\n",
       "</style>\n",
       "<table border=\"1\" class=\"dataframe\">\n",
       "  <thead>\n",
       "    <tr style=\"text-align: right;\">\n",
       "      <th></th>\n",
       "      <th>Name</th>\n",
       "      <th>Salary</th>\n",
       "    </tr>\n",
       "  </thead>\n",
       "  <tbody>\n",
       "    <tr>\n",
       "      <th>0</th>\n",
       "      <td>Alice</td>\n",
       "      <td>50000</td>\n",
       "    </tr>\n",
       "    <tr>\n",
       "      <th>1</th>\n",
       "      <td>Bob</td>\n",
       "      <td>60000</td>\n",
       "    </tr>\n",
       "    <tr>\n",
       "      <th>2</th>\n",
       "      <td>Charlie</td>\n",
       "      <td>55000</td>\n",
       "    </tr>\n",
       "    <tr>\n",
       "      <th>3</th>\n",
       "      <td>David</td>\n",
       "      <td>65000</td>\n",
       "    </tr>\n",
       "    <tr>\n",
       "      <th>4</th>\n",
       "      <td>Eva</td>\n",
       "      <td>58000</td>\n",
       "    </tr>\n",
       "  </tbody>\n",
       "</table>\n",
       "</div>"
      ],
      "text/plain": [
       "      Name  Salary\n",
       "0    Alice   50000\n",
       "1      Bob   60000\n",
       "2  Charlie   55000\n",
       "3    David   65000\n",
       "4      Eva   58000"
      ]
     },
     "execution_count": 3,
     "metadata": {},
     "output_type": "execute_result"
    }
   ],
   "source": [
    "Emp_data[[\"Name\",\"Salary\"]]"
   ]
  },
  {
   "cell_type": "code",
   "execution_count": 4,
   "id": "e70e299f-7118-4510-8317-663498c25334",
   "metadata": {},
   "outputs": [
    {
     "data": {
      "text/plain": [
       "57600.0"
      ]
     },
     "execution_count": 4,
     "metadata": {},
     "output_type": "execute_result"
    }
   ],
   "source": [
    "Emp_data[\"Salary\"].mean()"
   ]
  },
  {
   "cell_type": "markdown",
   "id": "99f524ae",
   "metadata": {},
   "source": [
    "Find the average salary of employees in the 'IT' department."
   ]
  },
  {
   "cell_type": "code",
   "execution_count": 9,
   "id": "55f8624e-fa27-4b53-bbf8-2cd94c7bcda4",
   "metadata": {},
   "outputs": [
    {
     "data": {
      "text/plain": [
       "62500.0"
      ]
     },
     "execution_count": 9,
     "metadata": {},
     "output_type": "execute_result"
    }
   ],
   "source": [
    "IT_dept = Emp_data[Emp_data['Department'] == 'IT']['Salary'].mean()\n",
    "IT_dept\n"
   ]
  },
  {
   "cell_type": "code",
   "execution_count": 10,
   "id": "970b5635-6c97-4ce1-9e8d-9ac6da1538b9",
   "metadata": {},
   "outputs": [
    {
     "ename": "IndexError",
     "evalue": "invalid index to scalar variable.",
     "output_type": "error",
     "traceback": [
      "\u001b[1;31m---------------------------------------------------------------------------\u001b[0m",
      "\u001b[1;31mIndexError\u001b[0m                                Traceback (most recent call last)",
      "Cell \u001b[1;32mIn[10], line 1\u001b[0m\n\u001b[1;32m----> 1\u001b[0m avg \u001b[38;5;241m=\u001b[39m IT_dept[\u001b[38;5;124m'\u001b[39m\u001b[38;5;124mSalary\u001b[39m\u001b[38;5;124m'\u001b[39m]\u001b[38;5;241m.\u001b[39mmean()\n\u001b[0;32m      2\u001b[0m avg\n",
      "\u001b[1;31mIndexError\u001b[0m: invalid index to scalar variable."
     ]
    }
   ],
   "source": [
    "#avg = IT_dept['Salary'].mean()\n",
    "#avg"
   ]
  },
  {
   "cell_type": "markdown",
   "id": "f3f8d306",
   "metadata": {},
   "source": [
    "Add a new column 'Bonus' where the bonus is 10% of the salary."
   ]
  },
  {
   "cell_type": "code",
   "execution_count": 11,
   "id": "3d780ac6-8999-4719-95cd-651fee9ccae9",
   "metadata": {},
   "outputs": [
    {
     "data": {
      "text/html": [
       "<div>\n",
       "<style scoped>\n",
       "    .dataframe tbody tr th:only-of-type {\n",
       "        vertical-align: middle;\n",
       "    }\n",
       "\n",
       "    .dataframe tbody tr th {\n",
       "        vertical-align: top;\n",
       "    }\n",
       "\n",
       "    .dataframe thead th {\n",
       "        text-align: right;\n",
       "    }\n",
       "</style>\n",
       "<table border=\"1\" class=\"dataframe\">\n",
       "  <thead>\n",
       "    <tr style=\"text-align: right;\">\n",
       "      <th></th>\n",
       "      <th>EmployeeID</th>\n",
       "      <th>Name</th>\n",
       "      <th>Department</th>\n",
       "      <th>Salary</th>\n",
       "      <th>Bonus</th>\n",
       "    </tr>\n",
       "  </thead>\n",
       "  <tbody>\n",
       "    <tr>\n",
       "      <th>0</th>\n",
       "      <td>101</td>\n",
       "      <td>Alice</td>\n",
       "      <td>HR</td>\n",
       "      <td>50000</td>\n",
       "      <td>5000.0</td>\n",
       "    </tr>\n",
       "    <tr>\n",
       "      <th>1</th>\n",
       "      <td>102</td>\n",
       "      <td>Bob</td>\n",
       "      <td>IT</td>\n",
       "      <td>60000</td>\n",
       "      <td>6000.0</td>\n",
       "    </tr>\n",
       "    <tr>\n",
       "      <th>2</th>\n",
       "      <td>103</td>\n",
       "      <td>Charlie</td>\n",
       "      <td>Finance</td>\n",
       "      <td>55000</td>\n",
       "      <td>5500.0</td>\n",
       "    </tr>\n",
       "    <tr>\n",
       "      <th>3</th>\n",
       "      <td>104</td>\n",
       "      <td>David</td>\n",
       "      <td>IT</td>\n",
       "      <td>65000</td>\n",
       "      <td>6500.0</td>\n",
       "    </tr>\n",
       "    <tr>\n",
       "      <th>4</th>\n",
       "      <td>105</td>\n",
       "      <td>Eva</td>\n",
       "      <td>HR</td>\n",
       "      <td>58000</td>\n",
       "      <td>5800.0</td>\n",
       "    </tr>\n",
       "  </tbody>\n",
       "</table>\n",
       "</div>"
      ],
      "text/plain": [
       "   EmployeeID     Name Department  Salary   Bonus\n",
       "0         101    Alice         HR   50000  5000.0\n",
       "1         102      Bob         IT   60000  6000.0\n",
       "2         103  Charlie    Finance   55000  5500.0\n",
       "3         104    David         IT   65000  6500.0\n",
       "4         105      Eva         HR   58000  5800.0"
      ]
     },
     "execution_count": 11,
     "metadata": {},
     "output_type": "execute_result"
    }
   ],
   "source": [
    "Emp_data['Bonus']=Emp_data['Salary']*(1/10)\n",
    "Emp_data"
   ]
  },
  {
   "cell_type": "markdown",
   "id": "c76d4159",
   "metadata": {},
   "source": [
    "Rename the 'EmployeeID' column to 'ID'."
   ]
  },
  {
   "cell_type": "code",
   "execution_count": 13,
   "id": "4ab56be0-77a4-411c-b45b-7baee01766e4",
   "metadata": {},
   "outputs": [
    {
     "data": {
      "text/html": [
       "<div>\n",
       "<style scoped>\n",
       "    .dataframe tbody tr th:only-of-type {\n",
       "        vertical-align: middle;\n",
       "    }\n",
       "\n",
       "    .dataframe tbody tr th {\n",
       "        vertical-align: top;\n",
       "    }\n",
       "\n",
       "    .dataframe thead th {\n",
       "        text-align: right;\n",
       "    }\n",
       "</style>\n",
       "<table border=\"1\" class=\"dataframe\">\n",
       "  <thead>\n",
       "    <tr style=\"text-align: right;\">\n",
       "      <th></th>\n",
       "      <th>ID</th>\n",
       "      <th>Name</th>\n",
       "      <th>Department</th>\n",
       "      <th>Salary</th>\n",
       "      <th>Bonus</th>\n",
       "    </tr>\n",
       "  </thead>\n",
       "  <tbody>\n",
       "    <tr>\n",
       "      <th>0</th>\n",
       "      <td>101</td>\n",
       "      <td>Alice</td>\n",
       "      <td>HR</td>\n",
       "      <td>50000</td>\n",
       "      <td>5000.0</td>\n",
       "    </tr>\n",
       "    <tr>\n",
       "      <th>1</th>\n",
       "      <td>102</td>\n",
       "      <td>Bob</td>\n",
       "      <td>IT</td>\n",
       "      <td>60000</td>\n",
       "      <td>6000.0</td>\n",
       "    </tr>\n",
       "    <tr>\n",
       "      <th>2</th>\n",
       "      <td>103</td>\n",
       "      <td>Charlie</td>\n",
       "      <td>Finance</td>\n",
       "      <td>55000</td>\n",
       "      <td>5500.0</td>\n",
       "    </tr>\n",
       "    <tr>\n",
       "      <th>3</th>\n",
       "      <td>104</td>\n",
       "      <td>David</td>\n",
       "      <td>IT</td>\n",
       "      <td>65000</td>\n",
       "      <td>6500.0</td>\n",
       "    </tr>\n",
       "    <tr>\n",
       "      <th>4</th>\n",
       "      <td>105</td>\n",
       "      <td>Eva</td>\n",
       "      <td>HR</td>\n",
       "      <td>58000</td>\n",
       "      <td>5800.0</td>\n",
       "    </tr>\n",
       "  </tbody>\n",
       "</table>\n",
       "</div>"
      ],
      "text/plain": [
       "    ID     Name Department  Salary   Bonus\n",
       "0  101    Alice         HR   50000  5000.0\n",
       "1  102      Bob         IT   60000  6000.0\n",
       "2  103  Charlie    Finance   55000  5500.0\n",
       "3  104    David         IT   65000  6500.0\n",
       "4  105      Eva         HR   58000  5800.0"
      ]
     },
     "execution_count": 13,
     "metadata": {},
     "output_type": "execute_result"
    }
   ],
   "source": [
    "Emp_data.rename(columns={'EmployeeID':'ID'},inplace=True)\n",
    "Emp_data"
   ]
  },
  {
   "cell_type": "markdown",
   "id": "671ba6b8",
   "metadata": {},
   "source": [
    "Drop the 'Department' column."
   ]
  },
  {
   "cell_type": "code",
   "execution_count": 14,
   "id": "69bbeaed-d71e-4db9-b026-a50093e48ec3",
   "metadata": {},
   "outputs": [
    {
     "data": {
      "text/html": [
       "<div>\n",
       "<style scoped>\n",
       "    .dataframe tbody tr th:only-of-type {\n",
       "        vertical-align: middle;\n",
       "    }\n",
       "\n",
       "    .dataframe tbody tr th {\n",
       "        vertical-align: top;\n",
       "    }\n",
       "\n",
       "    .dataframe thead th {\n",
       "        text-align: right;\n",
       "    }\n",
       "</style>\n",
       "<table border=\"1\" class=\"dataframe\">\n",
       "  <thead>\n",
       "    <tr style=\"text-align: right;\">\n",
       "      <th></th>\n",
       "      <th>ID</th>\n",
       "      <th>Name</th>\n",
       "      <th>Salary</th>\n",
       "      <th>Bonus</th>\n",
       "    </tr>\n",
       "  </thead>\n",
       "  <tbody>\n",
       "    <tr>\n",
       "      <th>0</th>\n",
       "      <td>101</td>\n",
       "      <td>Alice</td>\n",
       "      <td>50000</td>\n",
       "      <td>5000.0</td>\n",
       "    </tr>\n",
       "    <tr>\n",
       "      <th>1</th>\n",
       "      <td>102</td>\n",
       "      <td>Bob</td>\n",
       "      <td>60000</td>\n",
       "      <td>6000.0</td>\n",
       "    </tr>\n",
       "    <tr>\n",
       "      <th>2</th>\n",
       "      <td>103</td>\n",
       "      <td>Charlie</td>\n",
       "      <td>55000</td>\n",
       "      <td>5500.0</td>\n",
       "    </tr>\n",
       "    <tr>\n",
       "      <th>3</th>\n",
       "      <td>104</td>\n",
       "      <td>David</td>\n",
       "      <td>65000</td>\n",
       "      <td>6500.0</td>\n",
       "    </tr>\n",
       "    <tr>\n",
       "      <th>4</th>\n",
       "      <td>105</td>\n",
       "      <td>Eva</td>\n",
       "      <td>58000</td>\n",
       "      <td>5800.0</td>\n",
       "    </tr>\n",
       "  </tbody>\n",
       "</table>\n",
       "</div>"
      ],
      "text/plain": [
       "    ID     Name  Salary   Bonus\n",
       "0  101    Alice   50000  5000.0\n",
       "1  102      Bob   60000  6000.0\n",
       "2  103  Charlie   55000  5500.0\n",
       "3  104    David   65000  6500.0\n",
       "4  105      Eva   58000  5800.0"
      ]
     },
     "execution_count": 14,
     "metadata": {},
     "output_type": "execute_result"
    }
   ],
   "source": [
    "Emp_data.drop('Department', axis=1)"
   ]
  },
  {
   "cell_type": "markdown",
   "id": "f50b9433",
   "metadata": {},
   "source": [
    "Create a DataFrame sales_data with the following data:"
   ]
  },
  {
   "cell_type": "code",
   "execution_count": 15,
   "id": "a037753a-50db-4b28-9310-b83549890c75",
   "metadata": {},
   "outputs": [
    {
     "data": {
      "text/html": [
       "<div>\n",
       "<style scoped>\n",
       "    .dataframe tbody tr th:only-of-type {\n",
       "        vertical-align: middle;\n",
       "    }\n",
       "\n",
       "    .dataframe tbody tr th {\n",
       "        vertical-align: top;\n",
       "    }\n",
       "\n",
       "    .dataframe thead th {\n",
       "        text-align: right;\n",
       "    }\n",
       "</style>\n",
       "<table border=\"1\" class=\"dataframe\">\n",
       "  <thead>\n",
       "    <tr style=\"text-align: right;\">\n",
       "      <th></th>\n",
       "      <th>Month</th>\n",
       "      <th>Product_A</th>\n",
       "      <th>Product_B</th>\n",
       "    </tr>\n",
       "  </thead>\n",
       "  <tbody>\n",
       "    <tr>\n",
       "      <th>0</th>\n",
       "      <td>Jan</td>\n",
       "      <td>150</td>\n",
       "      <td>300</td>\n",
       "    </tr>\n",
       "    <tr>\n",
       "      <th>1</th>\n",
       "      <td>Feb</td>\n",
       "      <td>200</td>\n",
       "      <td>250</td>\n",
       "    </tr>\n",
       "    <tr>\n",
       "      <th>2</th>\n",
       "      <td>Mar</td>\n",
       "      <td>250</td>\n",
       "      <td>200</td>\n",
       "    </tr>\n",
       "    <tr>\n",
       "      <th>3</th>\n",
       "      <td>Apr</td>\n",
       "      <td>300</td>\n",
       "      <td>150</td>\n",
       "    </tr>\n",
       "    <tr>\n",
       "      <th>4</th>\n",
       "      <td>May</td>\n",
       "      <td>350</td>\n",
       "      <td>100</td>\n",
       "    </tr>\n",
       "  </tbody>\n",
       "</table>\n",
       "</div>"
      ],
      "text/plain": [
       "  Month  Product_A  Product_B\n",
       "0   Jan        150        300\n",
       "1   Feb        200        250\n",
       "2   Mar        250        200\n",
       "3   Apr        300        150\n",
       "4   May        350        100"
      ]
     },
     "execution_count": 15,
     "metadata": {},
     "output_type": "execute_result"
    }
   ],
   "source": [
    "Sales_data = pd.DataFrame({ 'Month': ['Jan', 'Feb', 'Mar', 'Apr', 'May'],\n",
    "    'Product_A': [150, 200, 250, 300, 350],\n",
    "    'Product_B': [300, 250, 200, 150, 100]\n",
    "})\n",
    "Sales_data"
   ]
  },
  {
   "cell_type": "code",
   "execution_count": 16,
   "id": "87e5c388-fc65-4582-81fa-77b5f76696ff",
   "metadata": {},
   "outputs": [
    {
     "data": {
      "text/plain": [
       "1250"
      ]
     },
     "execution_count": 16,
     "metadata": {},
     "output_type": "execute_result"
    }
   ],
   "source": [
    "tot_A = Sales_data['Product_A'].sum()\n",
    "tot_A"
   ]
  },
  {
   "cell_type": "code",
   "execution_count": 17,
   "id": "023a4373-7d40-45d4-911d-9150b97a1c3b",
   "metadata": {},
   "outputs": [
    {
     "data": {
      "text/plain": [
       "1000"
      ]
     },
     "execution_count": 17,
     "metadata": {},
     "output_type": "execute_result"
    }
   ],
   "source": [
    "tot_B = Sales_data['Product_B'].sum()\n",
    "tot_B"
   ]
  },
  {
   "cell_type": "markdown",
   "id": "2af63da9",
   "metadata": {},
   "source": [
    "Calculate the total sales for each product ('Product_A' and 'Product_B') in the sales_data DataFrame."
   ]
  },
  {
   "cell_type": "code",
   "execution_count": 51,
   "id": "d4b07163",
   "metadata": {},
   "outputs": [
    {
     "data": {
      "text/plain": [
       "2250"
      ]
     },
     "execution_count": 51,
     "metadata": {},
     "output_type": "execute_result"
    }
   ],
   "source": [
    "total1 = tot_A+tot_B\n",
    "total1"
   ]
  },
  {
   "cell_type": "markdown",
   "id": "a4dec236",
   "metadata": {},
   "source": [
    "Find the month with the highest sales for Product_A."
   ]
  },
  {
   "cell_type": "code",
   "execution_count": 18,
   "id": "8668f1cb-40a0-4042-8cda-e94b774851bf",
   "metadata": {},
   "outputs": [
    {
     "data": {
      "text/plain": [
       "350"
      ]
     },
     "execution_count": 18,
     "metadata": {},
     "output_type": "execute_result"
    }
   ],
   "source": [
    "max_A = Sales_data['Product_A'].max()\n",
    "max_A"
   ]
  },
  {
   "cell_type": "code",
   "execution_count": 19,
   "id": "4d6e2468-b926-46de-b6b7-77d9f8e36f88",
   "metadata": {},
   "outputs": [
    {
     "data": {
      "text/plain": [
       "'May'"
      ]
     },
     "execution_count": 19,
     "metadata": {},
     "output_type": "execute_result"
    }
   ],
   "source": [
    "max_month_A = Sales_data['Month'][Sales_data['Product_A'].idxmax()]\n",
    "max_month_A"
   ]
  },
  {
   "cell_type": "markdown",
   "id": "b2ca6724",
   "metadata": {},
   "source": [
    "Add a new column 'Total_Sales' which is the sum of 'Product_A' and 'Product_B'."
   ]
  },
  {
   "cell_type": "code",
   "execution_count": 20,
   "id": "90be2cb6-c12e-4c64-b33c-f1c53025f1f3",
   "metadata": {},
   "outputs": [
    {
     "data": {
      "text/html": [
       "<div>\n",
       "<style scoped>\n",
       "    .dataframe tbody tr th:only-of-type {\n",
       "        vertical-align: middle;\n",
       "    }\n",
       "\n",
       "    .dataframe tbody tr th {\n",
       "        vertical-align: top;\n",
       "    }\n",
       "\n",
       "    .dataframe thead th {\n",
       "        text-align: right;\n",
       "    }\n",
       "</style>\n",
       "<table border=\"1\" class=\"dataframe\">\n",
       "  <thead>\n",
       "    <tr style=\"text-align: right;\">\n",
       "      <th></th>\n",
       "      <th>Month</th>\n",
       "      <th>Product_A</th>\n",
       "      <th>Product_B</th>\n",
       "      <th>Total_Sales</th>\n",
       "    </tr>\n",
       "  </thead>\n",
       "  <tbody>\n",
       "    <tr>\n",
       "      <th>0</th>\n",
       "      <td>Jan</td>\n",
       "      <td>150</td>\n",
       "      <td>300</td>\n",
       "      <td>450</td>\n",
       "    </tr>\n",
       "    <tr>\n",
       "      <th>1</th>\n",
       "      <td>Feb</td>\n",
       "      <td>200</td>\n",
       "      <td>250</td>\n",
       "      <td>450</td>\n",
       "    </tr>\n",
       "    <tr>\n",
       "      <th>2</th>\n",
       "      <td>Mar</td>\n",
       "      <td>250</td>\n",
       "      <td>200</td>\n",
       "      <td>450</td>\n",
       "    </tr>\n",
       "    <tr>\n",
       "      <th>3</th>\n",
       "      <td>Apr</td>\n",
       "      <td>300</td>\n",
       "      <td>150</td>\n",
       "      <td>450</td>\n",
       "    </tr>\n",
       "    <tr>\n",
       "      <th>4</th>\n",
       "      <td>May</td>\n",
       "      <td>350</td>\n",
       "      <td>100</td>\n",
       "      <td>450</td>\n",
       "    </tr>\n",
       "  </tbody>\n",
       "</table>\n",
       "</div>"
      ],
      "text/plain": [
       "  Month  Product_A  Product_B  Total_Sales\n",
       "0   Jan        150        300          450\n",
       "1   Feb        200        250          450\n",
       "2   Mar        250        200          450\n",
       "3   Apr        300        150          450\n",
       "4   May        350        100          450"
      ]
     },
     "execution_count": 20,
     "metadata": {},
     "output_type": "execute_result"
    }
   ],
   "source": [
    "Sales_data['Total_Sales']=Sales_data['Product_A']+Sales_data['Product_B']\n",
    "Sales_data"
   ]
  },
  {
   "cell_type": "markdown",
   "id": "1cf482cb",
   "metadata": {},
   "source": [
    "Normalize the 'Product_A' sales by dividing by the maximum sales."
   ]
  },
  {
   "cell_type": "code",
   "execution_count": 21,
   "id": "c3d9aae9-a554-49a7-a822-e22dcc4a1a5d",
   "metadata": {},
   "outputs": [
    {
     "data": {
      "text/plain": [
       "0    0.428571\n",
       "1    0.571429\n",
       "2    0.714286\n",
       "3    0.857143\n",
       "4    1.000000\n",
       "Name: Product_A, dtype: float64"
      ]
     },
     "execution_count": 21,
     "metadata": {},
     "output_type": "execute_result"
    }
   ],
   "source": [
    "Normalized_A = Sales_data['Product_A']/max_A\n",
    "Normalized_A "
   ]
  },
  {
   "cell_type": "markdown",
   "id": "d088688e",
   "metadata": {},
   "source": [
    "Filter the DataFrame to show only months where total sales exceeded 400."
   ]
  },
  {
   "cell_type": "code",
   "execution_count": 22,
   "id": "c97b9fea-feb3-44e3-bc26-06c07d41d891",
   "metadata": {},
   "outputs": [
    {
     "data": {
      "text/html": [
       "<div>\n",
       "<style scoped>\n",
       "    .dataframe tbody tr th:only-of-type {\n",
       "        vertical-align: middle;\n",
       "    }\n",
       "\n",
       "    .dataframe tbody tr th {\n",
       "        vertical-align: top;\n",
       "    }\n",
       "\n",
       "    .dataframe thead th {\n",
       "        text-align: right;\n",
       "    }\n",
       "</style>\n",
       "<table border=\"1\" class=\"dataframe\">\n",
       "  <thead>\n",
       "    <tr style=\"text-align: right;\">\n",
       "      <th></th>\n",
       "      <th>Month</th>\n",
       "      <th>Product_A</th>\n",
       "      <th>Product_B</th>\n",
       "      <th>Total_Sales</th>\n",
       "    </tr>\n",
       "  </thead>\n",
       "  <tbody>\n",
       "    <tr>\n",
       "      <th>0</th>\n",
       "      <td>Jan</td>\n",
       "      <td>150</td>\n",
       "      <td>300</td>\n",
       "      <td>450</td>\n",
       "    </tr>\n",
       "    <tr>\n",
       "      <th>1</th>\n",
       "      <td>Feb</td>\n",
       "      <td>200</td>\n",
       "      <td>250</td>\n",
       "      <td>450</td>\n",
       "    </tr>\n",
       "    <tr>\n",
       "      <th>2</th>\n",
       "      <td>Mar</td>\n",
       "      <td>250</td>\n",
       "      <td>200</td>\n",
       "      <td>450</td>\n",
       "    </tr>\n",
       "    <tr>\n",
       "      <th>3</th>\n",
       "      <td>Apr</td>\n",
       "      <td>300</td>\n",
       "      <td>150</td>\n",
       "      <td>450</td>\n",
       "    </tr>\n",
       "    <tr>\n",
       "      <th>4</th>\n",
       "      <td>May</td>\n",
       "      <td>350</td>\n",
       "      <td>100</td>\n",
       "      <td>450</td>\n",
       "    </tr>\n",
       "  </tbody>\n",
       "</table>\n",
       "</div>"
      ],
      "text/plain": [
       "  Month  Product_A  Product_B  Total_Sales\n",
       "0   Jan        150        300          450\n",
       "1   Feb        200        250          450\n",
       "2   Mar        250        200          450\n",
       "3   Apr        300        150          450\n",
       "4   May        350        100          450"
      ]
     },
     "execution_count": 22,
     "metadata": {},
     "output_type": "execute_result"
    }
   ],
   "source": [
    "filtered=Sales_data[Sales_data['Total_Sales']>400]\n",
    "filtered"
   ]
  },
  {
   "cell_type": "markdown",
   "id": "94590bd1",
   "metadata": {},
   "source": [
    "Create a DataFrame customer_data with the following data:\n"
   ]
  },
  {
   "cell_type": "code",
   "execution_count": 23,
   "id": "2bd72cc8-5358-46ec-ab34-4aa7123b8548",
   "metadata": {},
   "outputs": [
    {
     "data": {
      "text/html": [
       "<div>\n",
       "<style scoped>\n",
       "    .dataframe tbody tr th:only-of-type {\n",
       "        vertical-align: middle;\n",
       "    }\n",
       "\n",
       "    .dataframe tbody tr th {\n",
       "        vertical-align: top;\n",
       "    }\n",
       "\n",
       "    .dataframe thead th {\n",
       "        text-align: right;\n",
       "    }\n",
       "</style>\n",
       "<table border=\"1\" class=\"dataframe\">\n",
       "  <thead>\n",
       "    <tr style=\"text-align: right;\">\n",
       "      <th></th>\n",
       "      <th>CustomerID</th>\n",
       "      <th>Name</th>\n",
       "      <th>Purchase</th>\n",
       "    </tr>\n",
       "  </thead>\n",
       "  <tbody>\n",
       "    <tr>\n",
       "      <th>0</th>\n",
       "      <td>1</td>\n",
       "      <td>John</td>\n",
       "      <td>200.0</td>\n",
       "    </tr>\n",
       "    <tr>\n",
       "      <th>1</th>\n",
       "      <td>2</td>\n",
       "      <td>Jane</td>\n",
       "      <td>300.0</td>\n",
       "    </tr>\n",
       "    <tr>\n",
       "      <th>2</th>\n",
       "      <td>3</td>\n",
       "      <td>None</td>\n",
       "      <td>150.0</td>\n",
       "    </tr>\n",
       "    <tr>\n",
       "      <th>3</th>\n",
       "      <td>4</td>\n",
       "      <td>Alice</td>\n",
       "      <td>NaN</td>\n",
       "    </tr>\n",
       "    <tr>\n",
       "      <th>4</th>\n",
       "      <td>5</td>\n",
       "      <td>Bob</td>\n",
       "      <td>500.0</td>\n",
       "    </tr>\n",
       "  </tbody>\n",
       "</table>\n",
       "</div>"
      ],
      "text/plain": [
       "   CustomerID   Name  Purchase\n",
       "0           1   John     200.0\n",
       "1           2   Jane     300.0\n",
       "2           3   None     150.0\n",
       "3           4  Alice       NaN\n",
       "4           5    Bob     500.0"
      ]
     },
     "execution_count": 23,
     "metadata": {},
     "output_type": "execute_result"
    }
   ],
   "source": [
    "Customer_data = pd.DataFrame({ 'CustomerID': [1, 2, 3, 4, 5],\n",
    "    'Name': ['John', 'Jane', None, 'Alice', 'Bob'],\n",
    "    'Purchase': [200, 300, 150, None, 500]\n",
    "})\n",
    "Customer_data"
   ]
  },
  {
   "cell_type": "markdown",
   "id": "7bc1172f",
   "metadata": {},
   "source": [
    "Identify and count the number of missing values in each column of the customer_data DataFrame.\n"
   ]
  },
  {
   "cell_type": "code",
   "execution_count": 24,
   "id": "e3c8b912-c407-4633-8a9b-79572cb428fb",
   "metadata": {},
   "outputs": [
    {
     "data": {
      "text/plain": [
       "CustomerID    0\n",
       "Name          1\n",
       "Purchase      1\n",
       "dtype: int64"
      ]
     },
     "execution_count": 24,
     "metadata": {},
     "output_type": "execute_result"
    }
   ],
   "source": [
    "Customer_data.isnull().sum()"
   ]
  },
  {
   "cell_type": "markdown",
   "id": "574e7556",
   "metadata": {},
   "source": [
    "Fill the missing values in the 'Name' column with 'Unknown'.\n"
   ]
  },
  {
   "cell_type": "code",
   "execution_count": 25,
   "id": "268af954-5b1a-459a-b70a-13616ee6cef0",
   "metadata": {},
   "outputs": [
    {
     "data": {
      "text/html": [
       "<div>\n",
       "<style scoped>\n",
       "    .dataframe tbody tr th:only-of-type {\n",
       "        vertical-align: middle;\n",
       "    }\n",
       "\n",
       "    .dataframe tbody tr th {\n",
       "        vertical-align: top;\n",
       "    }\n",
       "\n",
       "    .dataframe thead th {\n",
       "        text-align: right;\n",
       "    }\n",
       "</style>\n",
       "<table border=\"1\" class=\"dataframe\">\n",
       "  <thead>\n",
       "    <tr style=\"text-align: right;\">\n",
       "      <th></th>\n",
       "      <th>CustomerID</th>\n",
       "      <th>Name</th>\n",
       "      <th>Purchase</th>\n",
       "    </tr>\n",
       "  </thead>\n",
       "  <tbody>\n",
       "    <tr>\n",
       "      <th>0</th>\n",
       "      <td>1</td>\n",
       "      <td>John</td>\n",
       "      <td>200.0</td>\n",
       "    </tr>\n",
       "    <tr>\n",
       "      <th>1</th>\n",
       "      <td>2</td>\n",
       "      <td>Jane</td>\n",
       "      <td>300.0</td>\n",
       "    </tr>\n",
       "    <tr>\n",
       "      <th>2</th>\n",
       "      <td>3</td>\n",
       "      <td>Unknown</td>\n",
       "      <td>150.0</td>\n",
       "    </tr>\n",
       "    <tr>\n",
       "      <th>3</th>\n",
       "      <td>4</td>\n",
       "      <td>Alice</td>\n",
       "      <td>NaN</td>\n",
       "    </tr>\n",
       "    <tr>\n",
       "      <th>4</th>\n",
       "      <td>5</td>\n",
       "      <td>Bob</td>\n",
       "      <td>500.0</td>\n",
       "    </tr>\n",
       "  </tbody>\n",
       "</table>\n",
       "</div>"
      ],
      "text/plain": [
       "   CustomerID     Name  Purchase\n",
       "0           1     John     200.0\n",
       "1           2     Jane     300.0\n",
       "2           3  Unknown     150.0\n",
       "3           4    Alice       NaN\n",
       "4           5      Bob     500.0"
      ]
     },
     "execution_count": 25,
     "metadata": {},
     "output_type": "execute_result"
    }
   ],
   "source": [
    "Customer_data['Name']=Customer_data['Name'].fillna('Unknown')\n",
    "Customer_data"
   ]
  },
  {
   "cell_type": "markdown",
   "id": "350636f1",
   "metadata": {},
   "source": [
    "Fill the missing values in the 'Purchase' column with the median of the column.\n"
   ]
  },
  {
   "cell_type": "code",
   "execution_count": 26,
   "id": "cb2e8f03-c079-443a-a076-80534488acf6",
   "metadata": {},
   "outputs": [
    {
     "data": {
      "text/html": [
       "<div>\n",
       "<style scoped>\n",
       "    .dataframe tbody tr th:only-of-type {\n",
       "        vertical-align: middle;\n",
       "    }\n",
       "\n",
       "    .dataframe tbody tr th {\n",
       "        vertical-align: top;\n",
       "    }\n",
       "\n",
       "    .dataframe thead th {\n",
       "        text-align: right;\n",
       "    }\n",
       "</style>\n",
       "<table border=\"1\" class=\"dataframe\">\n",
       "  <thead>\n",
       "    <tr style=\"text-align: right;\">\n",
       "      <th></th>\n",
       "      <th>CustomerID</th>\n",
       "      <th>Name</th>\n",
       "      <th>Purchase</th>\n",
       "    </tr>\n",
       "  </thead>\n",
       "  <tbody>\n",
       "    <tr>\n",
       "      <th>0</th>\n",
       "      <td>1</td>\n",
       "      <td>John</td>\n",
       "      <td>200.0</td>\n",
       "    </tr>\n",
       "    <tr>\n",
       "      <th>1</th>\n",
       "      <td>2</td>\n",
       "      <td>Jane</td>\n",
       "      <td>300.0</td>\n",
       "    </tr>\n",
       "    <tr>\n",
       "      <th>2</th>\n",
       "      <td>3</td>\n",
       "      <td>Unknown</td>\n",
       "      <td>150.0</td>\n",
       "    </tr>\n",
       "    <tr>\n",
       "      <th>3</th>\n",
       "      <td>4</td>\n",
       "      <td>Alice</td>\n",
       "      <td>250.0</td>\n",
       "    </tr>\n",
       "    <tr>\n",
       "      <th>4</th>\n",
       "      <td>5</td>\n",
       "      <td>Bob</td>\n",
       "      <td>500.0</td>\n",
       "    </tr>\n",
       "  </tbody>\n",
       "</table>\n",
       "</div>"
      ],
      "text/plain": [
       "   CustomerID     Name  Purchase\n",
       "0           1     John     200.0\n",
       "1           2     Jane     300.0\n",
       "2           3  Unknown     150.0\n",
       "3           4    Alice     250.0\n",
       "4           5      Bob     500.0"
      ]
     },
     "execution_count": 26,
     "metadata": {},
     "output_type": "execute_result"
    }
   ],
   "source": [
    "Customer_data['Purchase']=Customer_data['Purchase'].fillna(Customer_data['Purchase'].median())\n",
    "Customer_data"
   ]
  },
  {
   "cell_type": "markdown",
   "id": "3dd7cd9c",
   "metadata": {},
   "source": [
    "Drop any rows that still contain missing values."
   ]
  },
  {
   "cell_type": "code",
   "execution_count": 27,
   "id": "0408a3ba-f5e9-43d1-a733-a5abd8d52069",
   "metadata": {},
   "outputs": [
    {
     "data": {
      "text/html": [
       "<div>\n",
       "<style scoped>\n",
       "    .dataframe tbody tr th:only-of-type {\n",
       "        vertical-align: middle;\n",
       "    }\n",
       "\n",
       "    .dataframe tbody tr th {\n",
       "        vertical-align: top;\n",
       "    }\n",
       "\n",
       "    .dataframe thead th {\n",
       "        text-align: right;\n",
       "    }\n",
       "</style>\n",
       "<table border=\"1\" class=\"dataframe\">\n",
       "  <thead>\n",
       "    <tr style=\"text-align: right;\">\n",
       "      <th></th>\n",
       "      <th>CustomerID</th>\n",
       "      <th>Name</th>\n",
       "      <th>Purchase</th>\n",
       "    </tr>\n",
       "  </thead>\n",
       "  <tbody>\n",
       "    <tr>\n",
       "      <th>0</th>\n",
       "      <td>1</td>\n",
       "      <td>John</td>\n",
       "      <td>200.0</td>\n",
       "    </tr>\n",
       "    <tr>\n",
       "      <th>1</th>\n",
       "      <td>2</td>\n",
       "      <td>Jane</td>\n",
       "      <td>300.0</td>\n",
       "    </tr>\n",
       "    <tr>\n",
       "      <th>2</th>\n",
       "      <td>3</td>\n",
       "      <td>Unknown</td>\n",
       "      <td>150.0</td>\n",
       "    </tr>\n",
       "    <tr>\n",
       "      <th>3</th>\n",
       "      <td>4</td>\n",
       "      <td>Alice</td>\n",
       "      <td>250.0</td>\n",
       "    </tr>\n",
       "    <tr>\n",
       "      <th>4</th>\n",
       "      <td>5</td>\n",
       "      <td>Bob</td>\n",
       "      <td>500.0</td>\n",
       "    </tr>\n",
       "  </tbody>\n",
       "</table>\n",
       "</div>"
      ],
      "text/plain": [
       "   CustomerID     Name  Purchase\n",
       "0           1     John     200.0\n",
       "1           2     Jane     300.0\n",
       "2           3  Unknown     150.0\n",
       "3           4    Alice     250.0\n",
       "4           5      Bob     500.0"
      ]
     },
     "execution_count": 27,
     "metadata": {},
     "output_type": "execute_result"
    }
   ],
   "source": [
    "Customer_data.dropna()"
   ]
  },
  {
   "cell_type": "markdown",
   "id": "029f8dfe-5452-4d74-bac6-b894f6df6e3f",
   "metadata": {},
   "source": [
    "Series Operations: Temperature Data\n",
    "\n",
    "Create a Series temperature with the following data:"
   ]
  },
  {
   "cell_type": "code",
   "execution_count": 30,
   "id": "666fa0c3",
   "metadata": {},
   "outputs": [
    {
     "data": {
      "text/plain": [
       "0    23\n",
       "1    21\n",
       "2    20\n",
       "3    25\n",
       "4    27\n",
       "5    30\n",
       "6    28\n",
       "7    22\n",
       "8    24\n",
       "9    26\n",
       "dtype: int64"
      ]
     },
     "execution_count": 30,
     "metadata": {},
     "output_type": "execute_result"
    }
   ],
   "source": [
    "temperature = pd.Series([23, 21, 20, 25, 27, 30, 28, 22, 24, 26])\n",
    "temperature"
   ]
  },
  {
   "cell_type": "markdown",
   "id": "0b8624ac",
   "metadata": {},
   "source": [
    "Find the mean, median, and variance"
   ]
  },
  {
   "cell_type": "code",
   "execution_count": 32,
   "id": "32ff9f2a",
   "metadata": {},
   "outputs": [],
   "source": [
    "mean_temp = temperature.mean()\n",
    "median_temp = temperature.median()\n",
    "variance_temp = temperature.var()"
   ]
  },
  {
   "cell_type": "code",
   "execution_count": 33,
   "id": "80ae2d4b",
   "metadata": {},
   "outputs": [
    {
     "data": {
      "text/plain": [
       "24.6"
      ]
     },
     "execution_count": 33,
     "metadata": {},
     "output_type": "execute_result"
    }
   ],
   "source": [
    "mean_temp"
   ]
  },
  {
   "cell_type": "code",
   "execution_count": 34,
   "id": "cf3ed2d0",
   "metadata": {},
   "outputs": [
    {
     "data": {
      "text/plain": [
       "24.5"
      ]
     },
     "execution_count": 34,
     "metadata": {},
     "output_type": "execute_result"
    }
   ],
   "source": [
    "median_temp"
   ]
  },
  {
   "cell_type": "code",
   "execution_count": 35,
   "id": "39298a44",
   "metadata": {},
   "outputs": [
    {
     "data": {
      "text/plain": [
       "10.266666666666666"
      ]
     },
     "execution_count": 35,
     "metadata": {},
     "output_type": "execute_result"
    }
   ],
   "source": [
    "variance_temp"
   ]
  },
  {
   "cell_type": "markdown",
   "id": "b898c3b4",
   "metadata": {},
   "source": [
    "Create a new Series indicating whether each temperature is above or below the mean"
   ]
  },
  {
   "cell_type": "code",
   "execution_count": 36,
   "id": "9a7d7138",
   "metadata": {},
   "outputs": [
    {
     "data": {
      "text/plain": [
       "0    False\n",
       "1    False\n",
       "2    False\n",
       "3     True\n",
       "4     True\n",
       "5     True\n",
       "6     True\n",
       "7    False\n",
       "8    False\n",
       "9     True\n",
       "dtype: bool"
      ]
     },
     "execution_count": 36,
     "metadata": {},
     "output_type": "execute_result"
    }
   ],
   "source": [
    "above_below_mean = temperature > mean_temp\n",
    "above_below_mean"
   ]
  },
  {
   "cell_type": "markdown",
   "id": "b7765b95",
   "metadata": {},
   "source": [
    "Convert the temperatures to Kelvin\n"
   ]
  },
  {
   "cell_type": "code",
   "execution_count": 38,
   "id": "0453bbf2",
   "metadata": {},
   "outputs": [
    {
     "data": {
      "text/plain": [
       "0    296.15\n",
       "1    294.15\n",
       "2    293.15\n",
       "3    298.15\n",
       "4    300.15\n",
       "5    303.15\n",
       "6    301.15\n",
       "7    295.15\n",
       "8    297.15\n",
       "9    299.15\n",
       "dtype: float64"
      ]
     },
     "execution_count": 38,
     "metadata": {},
     "output_type": "execute_result"
    }
   ],
   "source": [
    "temperature_kelvin = temperature + 273.15\n",
    "temperature_kelvin"
   ]
  },
  {
   "cell_type": "markdown",
   "id": "fb536aee",
   "metadata": {},
   "source": [
    " Calculate the rolling mean with a window size of 3"
   ]
  },
  {
   "cell_type": "code",
   "execution_count": 39,
   "id": "c2f8b452",
   "metadata": {},
   "outputs": [
    {
     "data": {
      "text/plain": [
       "0          NaN\n",
       "1          NaN\n",
       "2    21.333333\n",
       "3    22.000000\n",
       "4    24.000000\n",
       "5    27.333333\n",
       "6    28.333333\n",
       "7    26.666667\n",
       "8    24.666667\n",
       "9    24.000000\n",
       "dtype: float64"
      ]
     },
     "execution_count": 39,
     "metadata": {},
     "output_type": "execute_result"
    }
   ],
   "source": [
    "rolling_mean = temperature.rolling(window=3).mean()\n",
    "rolling_mean"
   ]
  },
  {
   "cell_type": "markdown",
   "id": "8d2f5010",
   "metadata": {},
   "source": [
    "Filter out temperatures that are within one standard deviation of the mean"
   ]
  },
  {
   "cell_type": "code",
   "execution_count": 40,
   "id": "0fe5efd1",
   "metadata": {},
   "outputs": [
    {
     "data": {
      "text/plain": [
       "3.204163957519444"
      ]
     },
     "execution_count": 40,
     "metadata": {},
     "output_type": "execute_result"
    }
   ],
   "source": [
    "std_dev = temperature.std()\n",
    "std_dev"
   ]
  },
  {
   "cell_type": "code",
   "execution_count": 41,
   "id": "4011eec7",
   "metadata": {},
   "outputs": [
    {
     "data": {
      "text/plain": [
       "0    23\n",
       "3    25\n",
       "4    27\n",
       "7    22\n",
       "8    24\n",
       "9    26\n",
       "dtype: int64"
      ]
     },
     "execution_count": 41,
     "metadata": {},
     "output_type": "execute_result"
    }
   ],
   "source": [
    "filtered_temps = temperature[(temperature > mean_temp - std_dev) & (temperature < mean_temp + std_dev)]\n",
    "filtered_temps"
   ]
  },
  {
   "cell_type": "markdown",
   "id": "10975292",
   "metadata": {},
   "source": [
    "Merging DataFrames: Product Orders\n",
    "\n",
    "Create the Orders DataFrame and Create the customers DataFrame"
   ]
  },
  {
   "cell_type": "code",
   "execution_count": 42,
   "id": "8b30e609",
   "metadata": {},
   "outputs": [
    {
     "data": {
      "text/html": [
       "<div>\n",
       "<style scoped>\n",
       "    .dataframe tbody tr th:only-of-type {\n",
       "        vertical-align: middle;\n",
       "    }\n",
       "\n",
       "    .dataframe tbody tr th {\n",
       "        vertical-align: top;\n",
       "    }\n",
       "\n",
       "    .dataframe thead th {\n",
       "        text-align: right;\n",
       "    }\n",
       "</style>\n",
       "<table border=\"1\" class=\"dataframe\">\n",
       "  <thead>\n",
       "    <tr style=\"text-align: right;\">\n",
       "      <th></th>\n",
       "      <th>OrderID</th>\n",
       "      <th>CustomerID</th>\n",
       "      <th>Product</th>\n",
       "      <th>Quantity</th>\n",
       "    </tr>\n",
       "  </thead>\n",
       "  <tbody>\n",
       "    <tr>\n",
       "      <th>0</th>\n",
       "      <td>1</td>\n",
       "      <td>101</td>\n",
       "      <td>A</td>\n",
       "      <td>2</td>\n",
       "    </tr>\n",
       "    <tr>\n",
       "      <th>1</th>\n",
       "      <td>2</td>\n",
       "      <td>102</td>\n",
       "      <td>B</td>\n",
       "      <td>1</td>\n",
       "    </tr>\n",
       "    <tr>\n",
       "      <th>2</th>\n",
       "      <td>3</td>\n",
       "      <td>103</td>\n",
       "      <td>A</td>\n",
       "      <td>4</td>\n",
       "    </tr>\n",
       "    <tr>\n",
       "      <th>3</th>\n",
       "      <td>4</td>\n",
       "      <td>104</td>\n",
       "      <td>C</td>\n",
       "      <td>2</td>\n",
       "    </tr>\n",
       "    <tr>\n",
       "      <th>4</th>\n",
       "      <td>5</td>\n",
       "      <td>101</td>\n",
       "      <td>B</td>\n",
       "      <td>3</td>\n",
       "    </tr>\n",
       "  </tbody>\n",
       "</table>\n",
       "</div>"
      ],
      "text/plain": [
       "   OrderID  CustomerID Product  Quantity\n",
       "0        1         101       A         2\n",
       "1        2         102       B         1\n",
       "2        3         103       A         4\n",
       "3        4         104       C         2\n",
       "4        5         101       B         3"
      ]
     },
     "execution_count": 42,
     "metadata": {},
     "output_type": "execute_result"
    }
   ],
   "source": [
    "orders = pd.DataFrame({\n",
    "    'OrderID': [1, 2, 3, 4, 5],\n",
    "    'CustomerID': [101, 102, 103, 104, 101],\n",
    "    'Product': ['A', 'B', 'A', 'C', 'B'],\n",
    "    'Quantity': [2, 1, 4, 2, 3]\n",
    "})\n",
    "orders"
   ]
  },
  {
   "cell_type": "code",
   "execution_count": 43,
   "id": "52240499",
   "metadata": {},
   "outputs": [
    {
     "data": {
      "text/html": [
       "<div>\n",
       "<style scoped>\n",
       "    .dataframe tbody tr th:only-of-type {\n",
       "        vertical-align: middle;\n",
       "    }\n",
       "\n",
       "    .dataframe tbody tr th {\n",
       "        vertical-align: top;\n",
       "    }\n",
       "\n",
       "    .dataframe thead th {\n",
       "        text-align: right;\n",
       "    }\n",
       "</style>\n",
       "<table border=\"1\" class=\"dataframe\">\n",
       "  <thead>\n",
       "    <tr style=\"text-align: right;\">\n",
       "      <th></th>\n",
       "      <th>CustomerID</th>\n",
       "      <th>Name</th>\n",
       "      <th>Location</th>\n",
       "    </tr>\n",
       "  </thead>\n",
       "  <tbody>\n",
       "    <tr>\n",
       "      <th>0</th>\n",
       "      <td>101</td>\n",
       "      <td>Alice</td>\n",
       "      <td>New York</td>\n",
       "    </tr>\n",
       "    <tr>\n",
       "      <th>1</th>\n",
       "      <td>102</td>\n",
       "      <td>Bob</td>\n",
       "      <td>Los Angeles</td>\n",
       "    </tr>\n",
       "    <tr>\n",
       "      <th>2</th>\n",
       "      <td>103</td>\n",
       "      <td>Charlie</td>\n",
       "      <td>Chicago</td>\n",
       "    </tr>\n",
       "    <tr>\n",
       "      <th>3</th>\n",
       "      <td>104</td>\n",
       "      <td>David</td>\n",
       "      <td>Houston</td>\n",
       "    </tr>\n",
       "  </tbody>\n",
       "</table>\n",
       "</div>"
      ],
      "text/plain": [
       "   CustomerID     Name     Location\n",
       "0         101    Alice     New York\n",
       "1         102      Bob  Los Angeles\n",
       "2         103  Charlie      Chicago\n",
       "3         104    David      Houston"
      ]
     },
     "execution_count": 43,
     "metadata": {},
     "output_type": "execute_result"
    }
   ],
   "source": [
    "customers = pd.DataFrame({\n",
    "    'CustomerID': [101, 102, 103, 104],\n",
    "    'Name': ['Alice', 'Bob', 'Charlie', 'David'],\n",
    "    'Location': ['New York', 'Los Angeles', 'Chicago', 'Houston']\n",
    "})\n",
    "customers"
   ]
  },
  {
   "cell_type": "markdown",
   "id": "e429f5a3",
   "metadata": {},
   "source": [
    "Merge the orders and customers DataFrames on 'CustomerID'"
   ]
  },
  {
   "cell_type": "code",
   "execution_count": 44,
   "id": "25a0f878",
   "metadata": {},
   "outputs": [
    {
     "data": {
      "text/html": [
       "<div>\n",
       "<style scoped>\n",
       "    .dataframe tbody tr th:only-of-type {\n",
       "        vertical-align: middle;\n",
       "    }\n",
       "\n",
       "    .dataframe tbody tr th {\n",
       "        vertical-align: top;\n",
       "    }\n",
       "\n",
       "    .dataframe thead th {\n",
       "        text-align: right;\n",
       "    }\n",
       "</style>\n",
       "<table border=\"1\" class=\"dataframe\">\n",
       "  <thead>\n",
       "    <tr style=\"text-align: right;\">\n",
       "      <th></th>\n",
       "      <th>OrderID</th>\n",
       "      <th>CustomerID</th>\n",
       "      <th>Product</th>\n",
       "      <th>Quantity</th>\n",
       "      <th>Name</th>\n",
       "      <th>Location</th>\n",
       "    </tr>\n",
       "  </thead>\n",
       "  <tbody>\n",
       "    <tr>\n",
       "      <th>0</th>\n",
       "      <td>1</td>\n",
       "      <td>101</td>\n",
       "      <td>A</td>\n",
       "      <td>2</td>\n",
       "      <td>Alice</td>\n",
       "      <td>New York</td>\n",
       "    </tr>\n",
       "    <tr>\n",
       "      <th>1</th>\n",
       "      <td>5</td>\n",
       "      <td>101</td>\n",
       "      <td>B</td>\n",
       "      <td>3</td>\n",
       "      <td>Alice</td>\n",
       "      <td>New York</td>\n",
       "    </tr>\n",
       "    <tr>\n",
       "      <th>2</th>\n",
       "      <td>2</td>\n",
       "      <td>102</td>\n",
       "      <td>B</td>\n",
       "      <td>1</td>\n",
       "      <td>Bob</td>\n",
       "      <td>Los Angeles</td>\n",
       "    </tr>\n",
       "    <tr>\n",
       "      <th>3</th>\n",
       "      <td>3</td>\n",
       "      <td>103</td>\n",
       "      <td>A</td>\n",
       "      <td>4</td>\n",
       "      <td>Charlie</td>\n",
       "      <td>Chicago</td>\n",
       "    </tr>\n",
       "    <tr>\n",
       "      <th>4</th>\n",
       "      <td>4</td>\n",
       "      <td>104</td>\n",
       "      <td>C</td>\n",
       "      <td>2</td>\n",
       "      <td>David</td>\n",
       "      <td>Houston</td>\n",
       "    </tr>\n",
       "  </tbody>\n",
       "</table>\n",
       "</div>"
      ],
      "text/plain": [
       "   OrderID  CustomerID Product  Quantity     Name     Location\n",
       "0        1         101       A         2    Alice     New York\n",
       "1        5         101       B         3    Alice     New York\n",
       "2        2         102       B         1      Bob  Los Angeles\n",
       "3        3         103       A         4  Charlie      Chicago\n",
       "4        4         104       C         2    David      Houston"
      ]
     },
     "execution_count": 44,
     "metadata": {},
     "output_type": "execute_result"
    }
   ],
   "source": [
    "merged_df = pd.merge(orders, customers, on='CustomerID')\n",
    "merged_df"
   ]
  },
  {
   "cell_type": "markdown",
   "id": "52105a37",
   "metadata": {},
   "source": [
    "Group by 'Location' and calculate the total quantity of orders"
   ]
  },
  {
   "cell_type": "code",
   "execution_count": 45,
   "id": "26d4de18",
   "metadata": {},
   "outputs": [
    {
     "data": {
      "text/plain": [
       "Location\n",
       "Chicago        4\n",
       "Houston        2\n",
       "Los Angeles    1\n",
       "New York       5\n",
       "Name: Quantity, dtype: int64"
      ]
     },
     "execution_count": 45,
     "metadata": {},
     "output_type": "execute_result"
    }
   ],
   "source": [
    "quantity_by_location = merged_df.groupby('Location')['Quantity'].sum()\n",
    "quantity_by_location"
   ]
  },
  {
   "cell_type": "markdown",
   "id": "a1103660",
   "metadata": {},
   "source": [
    "Find the customer who placed the highest number of orders"
   ]
  },
  {
   "cell_type": "code",
   "execution_count": 46,
   "id": "e8261a5a",
   "metadata": {},
   "outputs": [
    {
     "data": {
      "text/plain": [
       "CustomerID\n",
       "101    2\n",
       "102    1\n",
       "103    1\n",
       "104    1\n",
       "Name: count, dtype: int64"
      ]
     },
     "execution_count": 46,
     "metadata": {},
     "output_type": "execute_result"
    }
   ],
   "source": [
    "orders_count = merged_df['CustomerID'].value_counts()\n",
    "orders_count"
   ]
  },
  {
   "cell_type": "code",
   "execution_count": 47,
   "id": "bf58ca1c",
   "metadata": {},
   "outputs": [
    {
     "data": {
      "text/plain": [
       "101"
      ]
     },
     "execution_count": 47,
     "metadata": {},
     "output_type": "execute_result"
    }
   ],
   "source": [
    "highest_orders_customer_id = orders_count.idxmax()\n",
    "highest_orders_customer_id"
   ]
  },
  {
   "cell_type": "code",
   "execution_count": 48,
   "id": "76ae00e6",
   "metadata": {},
   "outputs": [
    {
     "data": {
      "text/html": [
       "<div>\n",
       "<style scoped>\n",
       "    .dataframe tbody tr th:only-of-type {\n",
       "        vertical-align: middle;\n",
       "    }\n",
       "\n",
       "    .dataframe tbody tr th {\n",
       "        vertical-align: top;\n",
       "    }\n",
       "\n",
       "    .dataframe thead th {\n",
       "        text-align: right;\n",
       "    }\n",
       "</style>\n",
       "<table border=\"1\" class=\"dataframe\">\n",
       "  <thead>\n",
       "    <tr style=\"text-align: right;\">\n",
       "      <th></th>\n",
       "      <th>CustomerID</th>\n",
       "      <th>Name</th>\n",
       "      <th>Location</th>\n",
       "    </tr>\n",
       "  </thead>\n",
       "  <tbody>\n",
       "    <tr>\n",
       "      <th>0</th>\n",
       "      <td>101</td>\n",
       "      <td>Alice</td>\n",
       "      <td>New York</td>\n",
       "    </tr>\n",
       "  </tbody>\n",
       "</table>\n",
       "</div>"
      ],
      "text/plain": [
       "   CustomerID   Name  Location\n",
       "0         101  Alice  New York"
      ]
     },
     "execution_count": 48,
     "metadata": {},
     "output_type": "execute_result"
    }
   ],
   "source": [
    "highest_orders_customer = customers[customers['CustomerID'] == highest_orders_customer_id]\n",
    "highest_orders_customer"
   ]
  },
  {
   "cell_type": "markdown",
   "id": "6990d74c",
   "metadata": {},
   "source": [
    "Add a new column 'Total_Quantity' which is the cumulative sum of quantities for each product"
   ]
  },
  {
   "cell_type": "code",
   "execution_count": 49,
   "id": "99c3a7fd",
   "metadata": {},
   "outputs": [
    {
     "data": {
      "text/html": [
       "<div>\n",
       "<style scoped>\n",
       "    .dataframe tbody tr th:only-of-type {\n",
       "        vertical-align: middle;\n",
       "    }\n",
       "\n",
       "    .dataframe tbody tr th {\n",
       "        vertical-align: top;\n",
       "    }\n",
       "\n",
       "    .dataframe thead th {\n",
       "        text-align: right;\n",
       "    }\n",
       "</style>\n",
       "<table border=\"1\" class=\"dataframe\">\n",
       "  <thead>\n",
       "    <tr style=\"text-align: right;\">\n",
       "      <th></th>\n",
       "      <th>OrderID</th>\n",
       "      <th>CustomerID</th>\n",
       "      <th>Product</th>\n",
       "      <th>Quantity</th>\n",
       "      <th>Name</th>\n",
       "      <th>Location</th>\n",
       "      <th>Total_Quantity</th>\n",
       "    </tr>\n",
       "  </thead>\n",
       "  <tbody>\n",
       "    <tr>\n",
       "      <th>0</th>\n",
       "      <td>1</td>\n",
       "      <td>101</td>\n",
       "      <td>A</td>\n",
       "      <td>2</td>\n",
       "      <td>Alice</td>\n",
       "      <td>New York</td>\n",
       "      <td>2</td>\n",
       "    </tr>\n",
       "    <tr>\n",
       "      <th>1</th>\n",
       "      <td>5</td>\n",
       "      <td>101</td>\n",
       "      <td>B</td>\n",
       "      <td>3</td>\n",
       "      <td>Alice</td>\n",
       "      <td>New York</td>\n",
       "      <td>3</td>\n",
       "    </tr>\n",
       "    <tr>\n",
       "      <th>2</th>\n",
       "      <td>2</td>\n",
       "      <td>102</td>\n",
       "      <td>B</td>\n",
       "      <td>1</td>\n",
       "      <td>Bob</td>\n",
       "      <td>Los Angeles</td>\n",
       "      <td>4</td>\n",
       "    </tr>\n",
       "    <tr>\n",
       "      <th>3</th>\n",
       "      <td>3</td>\n",
       "      <td>103</td>\n",
       "      <td>A</td>\n",
       "      <td>4</td>\n",
       "      <td>Charlie</td>\n",
       "      <td>Chicago</td>\n",
       "      <td>6</td>\n",
       "    </tr>\n",
       "    <tr>\n",
       "      <th>4</th>\n",
       "      <td>4</td>\n",
       "      <td>104</td>\n",
       "      <td>C</td>\n",
       "      <td>2</td>\n",
       "      <td>David</td>\n",
       "      <td>Houston</td>\n",
       "      <td>2</td>\n",
       "    </tr>\n",
       "  </tbody>\n",
       "</table>\n",
       "</div>"
      ],
      "text/plain": [
       "   OrderID  CustomerID Product  Quantity     Name     Location  Total_Quantity\n",
       "0        1         101       A         2    Alice     New York               2\n",
       "1        5         101       B         3    Alice     New York               3\n",
       "2        2         102       B         1      Bob  Los Angeles               4\n",
       "3        3         103       A         4  Charlie      Chicago               6\n",
       "4        4         104       C         2    David      Houston               2"
      ]
     },
     "execution_count": 49,
     "metadata": {},
     "output_type": "execute_result"
    }
   ],
   "source": [
    "merged_df['Total_Quantity'] = merged_df.groupby('Product')['Quantity'].cumsum()\n",
    "merged_df"
   ]
  },
  {
   "cell_type": "markdown",
   "id": "2ec1061b",
   "metadata": {},
   "source": [
    "Filter the merged DataFrame to show only the orders for products 'A' and 'B'\n"
   ]
  },
  {
   "cell_type": "code",
   "execution_count": 50,
   "id": "d391554a",
   "metadata": {},
   "outputs": [
    {
     "data": {
      "text/html": [
       "<div>\n",
       "<style scoped>\n",
       "    .dataframe tbody tr th:only-of-type {\n",
       "        vertical-align: middle;\n",
       "    }\n",
       "\n",
       "    .dataframe tbody tr th {\n",
       "        vertical-align: top;\n",
       "    }\n",
       "\n",
       "    .dataframe thead th {\n",
       "        text-align: right;\n",
       "    }\n",
       "</style>\n",
       "<table border=\"1\" class=\"dataframe\">\n",
       "  <thead>\n",
       "    <tr style=\"text-align: right;\">\n",
       "      <th></th>\n",
       "      <th>OrderID</th>\n",
       "      <th>CustomerID</th>\n",
       "      <th>Product</th>\n",
       "      <th>Quantity</th>\n",
       "      <th>Name</th>\n",
       "      <th>Location</th>\n",
       "      <th>Total_Quantity</th>\n",
       "    </tr>\n",
       "  </thead>\n",
       "  <tbody>\n",
       "    <tr>\n",
       "      <th>0</th>\n",
       "      <td>1</td>\n",
       "      <td>101</td>\n",
       "      <td>A</td>\n",
       "      <td>2</td>\n",
       "      <td>Alice</td>\n",
       "      <td>New York</td>\n",
       "      <td>2</td>\n",
       "    </tr>\n",
       "    <tr>\n",
       "      <th>1</th>\n",
       "      <td>5</td>\n",
       "      <td>101</td>\n",
       "      <td>B</td>\n",
       "      <td>3</td>\n",
       "      <td>Alice</td>\n",
       "      <td>New York</td>\n",
       "      <td>3</td>\n",
       "    </tr>\n",
       "    <tr>\n",
       "      <th>2</th>\n",
       "      <td>2</td>\n",
       "      <td>102</td>\n",
       "      <td>B</td>\n",
       "      <td>1</td>\n",
       "      <td>Bob</td>\n",
       "      <td>Los Angeles</td>\n",
       "      <td>4</td>\n",
       "    </tr>\n",
       "    <tr>\n",
       "      <th>3</th>\n",
       "      <td>3</td>\n",
       "      <td>103</td>\n",
       "      <td>A</td>\n",
       "      <td>4</td>\n",
       "      <td>Charlie</td>\n",
       "      <td>Chicago</td>\n",
       "      <td>6</td>\n",
       "    </tr>\n",
       "  </tbody>\n",
       "</table>\n",
       "</div>"
      ],
      "text/plain": [
       "   OrderID  CustomerID Product  Quantity     Name     Location  Total_Quantity\n",
       "0        1         101       A         2    Alice     New York               2\n",
       "1        5         101       B         3    Alice     New York               3\n",
       "2        2         102       B         1      Bob  Los Angeles               4\n",
       "3        3         103       A         4  Charlie      Chicago               6"
      ]
     },
     "execution_count": 50,
     "metadata": {},
     "output_type": "execute_result"
    }
   ],
   "source": [
    "filtered_orders = merged_df[merged_df['Product'].isin(['A', 'B'])]\n",
    "filtered_orders"
   ]
  },
  {
   "cell_type": "code",
   "execution_count": null,
   "id": "b9521695",
   "metadata": {},
   "outputs": [],
   "source": []
  }
 ],
 "metadata": {
  "kernelspec": {
   "display_name": "Python 3 (ipykernel)",
   "language": "python",
   "name": "python3"
  },
  "language_info": {
   "codemirror_mode": {
    "name": "ipython",
    "version": 3
   },
   "file_extension": ".py",
   "mimetype": "text/x-python",
   "name": "python",
   "nbconvert_exporter": "python",
   "pygments_lexer": "ipython3",
   "version": "3.11.7"
  }
 },
 "nbformat": 4,
 "nbformat_minor": 5
}
